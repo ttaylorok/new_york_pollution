{
 "cells": [
  {
   "cell_type": "markdown",
   "metadata": {},
   "source": [
    "https://data.cityofnewyork.us/Transportation/Subway-Stations/arq3-7z49 https://data.cityofnewyork.us/Transportation/Traffic-Volume-Counts-2014-2018-/ertz-hr4r https://data.cityofnewyork.us/Housing-Development/Heating-Oil-Consumption-And-Cost-2010-2019-/bhwu-wuzu https://data.cityofnewyork.us/Housing-Development/Cooking-Gas-Consumption-And-Cost-2010-2019-/avhb-5jhc https://data.cityofnewyork.us/Housing-Development/Electric-Consumption-And-Cost-2010-March-2019-/jr24-e7cr https://data.cityofnewyork.us/Housing-Development/Heating-Gas-Consumption-And-Cost-2010-2019-/it56-eyq4 \n",
    "\n",
    "https://data.cityofnewyork.us/Environment/Natural-Gas-Consumption-by-ZIP-Code-2010/uedp-fegm\n",
    "\n",
    "boilers, building permits https://data.cityofnewyork.us/Housing-Development/DOB-Permit-Issuance/ipu4-2q9a description of permit types https://www1.nyc.gov/site/buildings/business/permit-type-and-job-status-codes.page\n",
    "\n",
    "https://data.cityofnewyork.us/Environment/Steam-Consumption-by-ZIP-Code-2010/2pmt-skyq\n",
    "\n",
    "land use data, PLUTO\n",
    "\n",
    "traffic data \n",
    "https://data.cityofnewyork.us/Transportation/Traffic-Volume-Counts-2014-2018-/ertz-hr4r https://data.cityofnewyork.us/Transportation/Traffic-Volume-Counts-2011-2012-/wng2-85mv https://data.cityofnewyork.us/Transportation/Vehicle-Classification-Counts-2012-2013-/ae5u-upr6 https://data.cityofnewyork.us/Transportation/Vehicle-Classification-Counts-2011-2012-/t9nw-j73k https://data.cityofnewyork.us/Transportation/Vehicle-Classification-Counts-2014-2018-/96ay-ea4r https://data.cityofnewyork.us/dataset/NYC-Truck-Routes/spax-mybh\n",
    "\n",
    "https://data.cityofnewyork.us/Transportation/MTA-Data/mmu8-8w8b\n",
    "\n",
    "buses trucks https://data.cityofnewyork.us/dataset/NYC-Truck-Routes/spax-mybh roads https://data.cityofnewyork.us/City-Government/NYC-Street-Centerline-CSCL-/exjm-f27b\n",
    "\n",
    "population density https://data.cityofnewyork.us/City-Government/New-York-City-Population-By-Community-Districts/xi7c-iiu2 income\n",
    "\n",
    "https://data.cityofnewyork.us/Environment/Landcover-Raster-Data-2010-3ft-Resolution/9auy-76zt\n",
    "\n",
    "\n",
    "address info\n",
    "https://data.cityofnewyork.us/City-Government/Property-Address-Directory/bc8t-ecyu"
   ]
  },
  {
   "cell_type": "code",
   "execution_count": null,
   "metadata": {},
   "outputs": [],
   "source": [
    "import pandas as pd\n",
    "import numpy as np\n",
    "#import matplotlib.pyplot as plt\n",
    "#import seaborn as sn\n",
    "import plotly.express as px\n",
    "import json\n",
    "import datetime\n",
    "#import geopandas as gpd\n",
    "import fiona\n",
    "\n",
    "pd.set_option('display.max_columns', 100)\n",
    "pd.set_option('display.max_rows', 1000)"
   ]
  },
  {
   "cell_type": "code",
   "execution_count": null,
   "metadata": {
    "scrolled": true
   },
   "outputs": [],
   "source": [
    "# https://data.cityofnewyork.us/Housing-Development/Heating-Gas-Consumption-And-Cost-2010-2019-/it56-eyq4\n",
    "heating = pd.read_csv('Heating_Gas_Consumption_And_Cost__2010_-__2019_.csv')\n",
    "heating"
   ]
  },
  {
   "cell_type": "code",
   "execution_count": null,
   "metadata": {
    "scrolled": true
   },
   "outputs": [],
   "source": [
    "ngc = pd.read_csv('Natural_Gas_Consumption_by_ZIP_Code_-_2010.csv')\n",
    "ngc.head(100)"
   ]
  },
  {
   "cell_type": "code",
   "execution_count": null,
   "metadata": {
    "scrolled": true
   },
   "outputs": [],
   "source": [
    "ngc.groupby(['Zip Code']).count()"
   ]
  },
  {
   "cell_type": "code",
   "execution_count": null,
   "metadata": {},
   "outputs": [],
   "source": [
    "ngc['zip2'] = ngc['Zip Code'].apply(lambda x : x[:5])\n",
    "ngc"
   ]
  },
  {
   "cell_type": "code",
   "execution_count": null,
   "metadata": {
    "scrolled": true
   },
   "outputs": [],
   "source": [
    "ngc.groupby('zip2').count()\n"
   ]
  },
  {
   "cell_type": "code",
   "execution_count": null,
   "metadata": {},
   "outputs": [],
   "source": [
    "ngc"
   ]
  },
  {
   "cell_type": "code",
   "execution_count": null,
   "metadata": {},
   "outputs": [],
   "source": [
    "permits = pd.read_csv('DOB_Permit_Issuance.csv')\n",
    "#permits.head(100)\n",
    "permits.dtypes\n"
   ]
  },
  {
   "cell_type": "code",
   "execution_count": null,
   "metadata": {
    "scrolled": true
   },
   "outputs": [],
   "source": [
    "permits_bl = permits[permits['Permit Subtype'] == 'BL']\n",
    "permits_bl['Job Start Date'] = pd.to_datetime(permits_bl['Job Start Date'])\n",
    "permits_bl"
   ]
  },
  {
   "cell_type": "code",
   "execution_count": null,
   "metadata": {},
   "outputs": [],
   "source": [
    "#permits_bl.count()\n",
    "#import datetime\n",
    "#permits_bl['Job Start Date'][7].year\n",
    "permits_bl['year'] = permits_bl['Job Start Date'].apply(lambda x : x.year)\n",
    "permits_bl['year'].hist(bins=100)"
   ]
  },
  {
   "cell_type": "code",
   "execution_count": null,
   "metadata": {},
   "outputs": [],
   "source": [
    "permits_bl['Permit Type'].hist()"
   ]
  },
  {
   "cell_type": "code",
   "execution_count": null,
   "metadata": {},
   "outputs": [],
   "source": [
    "addr = pd.read_csv('pad20a\\\\bobaadr.txt')"
   ]
  },
  {
   "cell_type": "code",
   "execution_count": null,
   "metadata": {
    "scrolled": true
   },
   "outputs": [],
   "source": [
    "addr"
   ]
  },
  {
   "cell_type": "code",
   "execution_count": null,
   "metadata": {},
   "outputs": [],
   "source": [
    "\n",
    "\n",
    "pluto_path = 'C:\\\\Users\\\\comp\\\\Documents\\\\New York\\\\nyc_mappluto_20v3_fgdb\\\\MapPLUTO20v3.gdb'\n",
    "#pluto = gpd.read_file(\"C:\\\\Users\\\\comp\\\\Documents\\\\New York\\\\nyc_mappluto_20v3_fgdb\\\\MapPLUTO20v3.gdb\", driver='FileGDB')\n",
    "\n",
    "layers = fiona.listlayers(pluto_path)\n",
    "\n",
    "pluto = gpd.read_file(pluto_path, driver='FileGDB', layer = layers[0])\n",
    "\n",
    "# for l in layers:\n",
    "#     mallard = gpd.read_file('./bird-species/E00039600_mallard.gdb', layer=l)\n",
    "#     mallard = mallard.to_crs(world.crs)\n",
    "#     mallard.plot(ax=base, color='red', alpha=.1)"
   ]
  },
  {
   "cell_type": "markdown",
   "metadata": {},
   "source": [
    "# # NATURAL GAS BY ZIPCODE"
   ]
  },
  {
   "cell_type": "code",
   "execution_count": null,
   "metadata": {},
   "outputs": [],
   "source": [
    "ngc"
   ]
  },
  {
   "cell_type": "code",
   "execution_count": null,
   "metadata": {},
   "outputs": [],
   "source": [
    "zip_shape = 'C:\\\\Users\\\\comp\\\\Documents\\\\New York\\\\ZIP_CODE_040114\\\\ZIP_CODE_040114.shp'\n",
    "#df_zip = gpd.read_file(zip_shape)\n",
    "#df_zip = df_zip.to_crs(\"EPSG:4326\")\n",
    "#df_zip.to_file('C:\\\\Users\\\\comp\\\\Documents\\\\New York\\\\zipcodes.geojson', driver='GeoJSON')"
   ]
  },
  {
   "cell_type": "code",
   "execution_count": null,
   "metadata": {},
   "outputs": [],
   "source": [
    "df_zip_f = fiona.open(zip_shape,'r')\n",
    "df_zip_f"
   ]
  },
  {
   "cell_type": "code",
   "execution_count": null,
   "metadata": {},
   "outputs": [],
   "source": [
    "df_zip_f.crs"
   ]
  },
  {
   "cell_type": "code",
   "execution_count": null,
   "metadata": {},
   "outputs": [],
   "source": [
    "\n",
    "\n",
    "df_zip_f = fiona.open(zip_shape,'r')\n",
    "df_zip_f\n",
    "\n",
    "import shapely\n",
    "\n",
    "from pyproj import Proj, Transformer\n",
    "\n",
    "transformer = Transformer.from_crs(\"epsg:2263\", \"epsg:4326\")\n",
    "transformer.transform(*coords[0][0])\n",
    "\n",
    "df_zip_f.crs\n",
    "zips = []\n",
    "features = []\n",
    "for rec in df_zip_f:\n",
    "    rec['properties'] = dict(rec['properties'])\n",
    "    # coordinates can have more than one shape\n",
    "    for p in np.arange(len(rec['geometry']['coordinates'])):\n",
    "        for c in np.arange(len(rec['geometry']['coordinates'][p])):\n",
    "            x, y = transformer.transform(*rec['geometry']['coordinates'][p][c])\n",
    "            rec['geometry']['coordinates'][p][c] = [y, x]\n",
    "        features.append(rec)\n",
    "        zips.append(rec['properties']['ZIPCODE'])\n",
    "\n",
    "df_zip_f.close()\n"
   ]
  },
  {
   "cell_type": "code",
   "execution_count": null,
   "metadata": {},
   "outputs": [],
   "source": [
    "np.arange(len(rec['geometry']['coordinates']))"
   ]
  },
  {
   "cell_type": "code",
   "execution_count": null,
   "metadata": {},
   "outputs": [],
   "source": [
    "#features"
   ]
  },
  {
   "cell_type": "code",
   "execution_count": null,
   "metadata": {},
   "outputs": [],
   "source": [
    "gj = {'type' : 'FeatureCollection', 'features' : features}\n",
    "with open('test_output.geojson', 'w') as outfile:\n",
    "    json.dump(gj, outfile)"
   ]
  },
  {
   "cell_type": "code",
   "execution_count": null,
   "metadata": {},
   "outputs": [],
   "source": [
    "df_zips = pd.DataFrame(zips, columns = ['ZIPCODE'])\n",
    "df_zips"
   ]
  },
  {
   "cell_type": "code",
   "execution_count": null,
   "metadata": {},
   "outputs": [],
   "source": [
    "gj"
   ]
  },
  {
   "cell_type": "code",
   "execution_count": null,
   "metadata": {},
   "outputs": [],
   "source": [
    "gj['features'][177]"
   ]
  },
  {
   "cell_type": "code",
   "execution_count": null,
   "metadata": {},
   "outputs": [],
   "source": [
    "token = open(\"C:\\\\Users\\\\comp\\\\Documents\\\\New York\\\\token\").read()\n",
    "\n",
    "# GEOPANDAS IS STUPID AND CAUSES DEPENDENCY ISSUES\n",
    "\n",
    "fig = px.choropleth_mapbox(df_zips, \n",
    "                    geojson=gj,\n",
    "                    locations='ZIPCODE',\n",
    "                    featureidkey= 'properties.ZIPCODE',\n",
    "                    zoom=8, center = {\"lat\": 40, \"lon\": -73},)\n",
    "\n",
    "# doesn't work with mapbox\n",
    "#fig.update_geos(fitbounds=\"locations\")\n",
    "fig.update_layout(mapbox_style=\"light\", mapbox_accesstoken = token)\n",
    "fig.update_layout(margin={\"r\":0,\"t\":0,\"l\":0,\"b\":0})\n",
    "\n",
    "fig.show()"
   ]
  },
  {
   "cell_type": "code",
   "execution_count": null,
   "metadata": {},
   "outputs": [],
   "source": [
    "np.arange(len(coords[0]))"
   ]
  },
  {
   "cell_type": "code",
   "execution_count": null,
   "metadata": {},
   "outputs": [],
   "source": [
    "rec['geometry']['coordinates'][0]"
   ]
  },
  {
   "cell_type": "code",
   "execution_count": null,
   "metadata": {},
   "outputs": [],
   "source": [
    "# from functools import partial\n",
    "# import pyproj\n",
    "# from shapely.ops import transform\n",
    "\n",
    "# project = partial(\n",
    "#     pyproj.transform,\n",
    "#     pyproj.Proj(init='epsg:1727'), # source coordinate system\n",
    "#     pyproj.Proj(init='epsg:4326')) # destination coordinate system\n",
    "\n",
    "from pyproj import Proj, Transformer\n",
    "p1 = Proj('epsg:2263')\n",
    "p2 = Proj('epsg:4326')\n",
    "\n",
    "transformer = Transformer.from_crs(\"epsg:2263\", \"epsg:4326\")\n",
    "transformer.transform(*coords[0][0])\n",
    "\n",
    "#transform(p1, p2, coords[0])\n",
    "\n"
   ]
  },
  {
   "cell_type": "code",
   "execution_count": null,
   "metadata": {},
   "outputs": [],
   "source": []
  },
  {
   "cell_type": "code",
   "execution_count": null,
   "metadata": {},
   "outputs": [],
   "source": [
    "coords[0]\n"
   ]
  },
  {
   "cell_type": "code",
   "execution_count": null,
   "metadata": {},
   "outputs": [],
   "source": [
    "df_zip.crs"
   ]
  },
  {
   "cell_type": "code",
   "execution_count": null,
   "metadata": {},
   "outputs": [],
   "source": [
    "#import pyproj\n",
    "#pyproj.Proj(\"+init=epsg:4326\")\n",
    "\n",
    "\n",
    "s = df_zip.loc[0,'geometry']\n",
    "s\n",
    "s.bounds\n"
   ]
  },
  {
   "cell_type": "code",
   "execution_count": null,
   "metadata": {},
   "outputs": [],
   "source": [
    "from functools import partial\n",
    "import pyproj\n",
    "from shapely.ops import transform\n",
    "\n",
    "\n",
    "\n",
    "project = partial(\n",
    "    pyproj.transform,\n",
    "    pyproj.Proj(init='epsg:1727'), # source coordinate system\n",
    "    pyproj.Proj(init='epsg:4326')) # destination coordinate system\n",
    "\n",
    "#s2 = transform(project, s)  # apply projection\n",
    "\n",
    "df_zip['geometry'] = df_zip['geometry'].apply(lambda x : transform(project, x))"
   ]
  },
  {
   "cell_type": "code",
   "execution_count": null,
   "metadata": {},
   "outputs": [],
   "source": [
    "pyproj.Proj('PROJCS[\"NAD_1983_StatePlane_New_York_Long_Island_FIPS_3104_Feet\",GEOGCS[\"GCS_North_American_1983\",DATUM[\"D_North_American_1983\",SPHEROID[\"GRS_1980\",6378137.0,298.257222101]],PRIMEM[\"Greenwich\",0.0],UNIT[\"Degree\",0.0174532925199433]],PROJECTION[\"Lambert_Conformal_Conic\"],PARAMETER[\"False_Easting\",984250.0],PARAMETER[\"False_Northing\",0.0],PARAMETER[\"Central_Meridian\",-74.0],PARAMETER[\"Standard_Parallel_1\",40.66666666666666],PARAMETER[\"Standard_Parallel_2\",41.03333333333333],PARAMETER[\"Latitude_Of_Origin\",40.16666666666666],UNIT[\"Foot_US\",0.3048006096012192]]')"
   ]
  },
  {
   "cell_type": "code",
   "execution_count": null,
   "metadata": {},
   "outputs": [],
   "source": [
    "df_zip.head()"
   ]
  },
  {
   "cell_type": "code",
   "execution_count": null,
   "metadata": {},
   "outputs": [],
   "source": [
    "\n",
    "#from pyproj import CRS\n",
    "import pyproj\n",
    "pyproj.crs.CRS.from_string(\"epsg:4326\")"
   ]
  },
  {
   "cell_type": "code",
   "execution_count": null,
   "metadata": {},
   "outputs": [],
   "source": [
    "df_zip.crs = \"EPSG:4326\"\n",
    "df_zip.crs"
   ]
  },
  {
   "cell_type": "code",
   "execution_count": null,
   "metadata": {},
   "outputs": [],
   "source": [
    "df_zip.plot()"
   ]
  },
  {
   "cell_type": "code",
   "execution_count": null,
   "metadata": {},
   "outputs": [],
   "source": [
    "#df_zip.loc[0:1,'geometry'].to_crs(\"EPSG:4326\")\n",
    "df_zip.to_file('C:\\\\Users\\\\comp\\\\Documents\\\\New York\\\\zipcodes.geojson', driver='GeoJSON')"
   ]
  },
  {
   "cell_type": "code",
   "execution_count": null,
   "metadata": {},
   "outputs": [],
   "source": [
    "fin = open('C:\\\\Users\\\\comp\\\\Documents\\\\New York\\\\zipcodes.geojson')\n",
    "zip_json = json.load(fin)\n",
    "fin.close()"
   ]
  },
  {
   "cell_type": "code",
   "execution_count": null,
   "metadata": {},
   "outputs": [],
   "source": [
    "zip_json"
   ]
  },
  {
   "cell_type": "code",
   "execution_count": null,
   "metadata": {},
   "outputs": [],
   "source": [
    "df_geoids = pd.DataFrame(zip_json['features'])\n",
    "df_geoids2 = pd.json_normalize(df_geoids['properties'])\n",
    "#df_geoids2\n",
    "df_geoids2"
   ]
  },
  {
   "cell_type": "code",
   "execution_count": null,
   "metadata": {},
   "outputs": [],
   "source": [
    "token = open(\"C:/Users/comp/Documents/intersection_congestion/default_token\").read()\n",
    "\n",
    "fig = px.choropleth(df_geoids2, geojson=zip_json,\n",
    "                    locations='ZIPCODE',\n",
    "                    featureidkey= 'properties.ZIPCODE')\n",
    "\n",
    "fig.update_layout(mapbox_style=\"open-street-map\")\n",
    "fig.update_layout(margin={\"r\":0,\"t\":0,\"l\":0,\"b\":0})\n",
    "\n",
    "fig.show()"
   ]
  },
  {
   "cell_type": "code",
   "execution_count": null,
   "metadata": {},
   "outputs": [],
   "source": []
  }
 ],
 "metadata": {
  "kernelspec": {
   "display_name": "Python 3",
   "language": "python",
   "name": "python3"
  },
  "language_info": {
   "codemirror_mode": {
    "name": "ipython",
    "version": 3
   },
   "file_extension": ".py",
   "mimetype": "text/x-python",
   "name": "python",
   "nbconvert_exporter": "python",
   "pygments_lexer": "ipython3",
   "version": "3.7.7"
  }
 },
 "nbformat": 4,
 "nbformat_minor": 4
}
